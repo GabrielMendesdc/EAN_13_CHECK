{
 "cells": [
  {
   "cell_type": "code",
   "execution_count": null,
   "id": "a8ae7a63",
   "metadata": {
    "code_folding": [
     8
    ]
   },
   "outputs": [],
   "source": [
    "x=0\n",
    "from tkinter import *\n",
    "import sys\n",
    "\n",
    "def on_key_pressing(event, entry, label):\n",
    "    ean = entry.get()\n",
    "    init(ean)\n",
    "\n",
    "    \n",
    "class PrintToT1(object):\n",
    "    def write(self, s):\n",
    "        t1.insert(END, s)\n",
    "        t1.tag_add(\"center\", \"1.0\", \"end\")\n",
    "        \n",
    "        \n",
    "root = Tk()\n",
    "root.geometry('1220x500')\n",
    "root.minsize(1220, 500)\n",
    "root.config(bg='pink')\n",
    "root.title(\"Ean13 Checker\")\n",
    "# root.attributes('-fullscreen', True)\n",
    "root.resizable(True, True)\n",
    "entry = Entry(root)\n",
    "entry.pack(side=\"top\")\n",
    "entry.bind(\"<Return>\", lambda e: on_key_pressing(e, entry, root))\n",
    "t1 = Text(root, bg='black', fg='white')\n",
    "t1.tag_configure(\"center\", justify='center')\n",
    "t1.config(font=(\"Courier\", 40))\n",
    "t1.pack(expand=True, fill='both')\n",
    "sys.stdout = PrintToT1()\n",
    "\n",
    "def dv(ean):\n",
    "    ean = str(ean)\n",
    "    sum1,sum3,soma,eanNovo = 0,0,0,''\n",
    "    if len(ean) % 2 == 0:\n",
    "        for i in range(len(ean)):\n",
    "            if i % 2 == 0:\n",
    "                sum1 += int(ean[i])\n",
    "            else:\n",
    "                sum3 += (int(ean[i]) * 3)\n",
    "    else:\n",
    "        for i in range(len(ean)):\n",
    "            if i % 2 != 0:\n",
    "                sum1 += int(ean[i])\n",
    "            else:\n",
    "                sum3 += (int(ean[i]) * 3)\n",
    "    eanAux = ean[0:13]\n",
    "    dig = (((sum1+sum3) // 10)*10+10) - (sum1+sum3)\n",
    "    if dig == 10:\n",
    "        dig = 0\n",
    "    eanNovo = eanAux + str(dig)\n",
    "    return eanNovo\n",
    "\n",
    "\n",
    "def checa(ean):\n",
    "    ean = str(ean)\n",
    "    if len(ean) == 14:\n",
    "        ean = ean[1:13]\n",
    "        eanNovo = dv(ean)\n",
    "    elif len(ean) == 13:\n",
    "        ean = ean[0:13]\n",
    "        eanNovo  = dv(ean)\n",
    "    else:\n",
    "        eanNovo = dv(ean)\n",
    "    return eanNovo\n",
    "\n",
    "\n",
    "def init(ean):\n",
    "    global x\n",
    "    if not x > 6:\n",
    "        print(f'Dígito Verificador: {checa(ean)[-1]}')\n",
    "        print(f'Ean: {checa(ean)}')\n",
    "    x+=1\n",
    "\n",
    "        \n",
    "root.mainloop()"
   ]
  },
  {
   "cell_type": "code",
   "execution_count": 25,
   "id": "2bb110e6",
   "metadata": {},
   "outputs": [
    {
     "name": "stdout",
     "output_type": "stream",
     "text": [
      "0\n"
     ]
    }
   ],
   "source": []
  },
  {
   "cell_type": "code",
   "execution_count": null,
   "id": "0c47f3fd",
   "metadata": {},
   "outputs": [],
   "source": []
  }
 ],
 "metadata": {
  "kernelspec": {
   "display_name": "Python 3 (ipykernel)",
   "language": "python",
   "name": "python3"
  },
  "language_info": {
   "codemirror_mode": {
    "name": "ipython",
    "version": 3
   },
   "file_extension": ".py",
   "mimetype": "text/x-python",
   "name": "python",
   "nbconvert_exporter": "python",
   "pygments_lexer": "ipython3",
   "version": "3.8.12"
  },
  "varInspector": {
   "cols": {
    "lenName": 16,
    "lenType": 16,
    "lenVar": 40
   },
   "kernels_config": {
    "python": {
     "delete_cmd_postfix": "",
     "delete_cmd_prefix": "del ",
     "library": "var_list.py",
     "varRefreshCmd": "print(var_dic_list())"
    },
    "r": {
     "delete_cmd_postfix": ") ",
     "delete_cmd_prefix": "rm(",
     "library": "var_list.r",
     "varRefreshCmd": "cat(var_dic_list()) "
    }
   },
   "types_to_exclude": [
    "module",
    "function",
    "builtin_function_or_method",
    "instance",
    "_Feature"
   ],
   "window_display": false
  }
 },
 "nbformat": 4,
 "nbformat_minor": 5
}
